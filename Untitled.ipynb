{
 "cells": [
  {
   "cell_type": "code",
   "execution_count": 37,
   "id": "7ab9372e-8260-4710-af9c-ce3d683374f9",
   "metadata": {},
   "outputs": [
    {
     "name": "stdin",
     "output_type": "stream",
     "text": [
      "enter the element : 5\n",
      "enter the element name: a\n",
      "enter the element name: s\n",
      "enter the element name: d\n",
      "enter the element name: f\n",
      "enter the element name: g\n",
      "search h\n"
     ]
    },
    {
     "name": "stdout",
     "output_type": "stream",
     "text": [
      "it is not avalible:\n"
     ]
    }
   ],
   "source": [
    "n=int(input(\"enter the element :\"))\n",
    "i=[]\n",
    "l=0\n",
    "while l<n:\n",
    "    l1=input(\"enter the element name:\")\n",
    "    i.append(l1)\n",
    "    l=l+1\n",
    "s_m=input(\"search\")\n",
    "for e in (i):\n",
    "    if(e==s_m):\n",
    "        print(\"it is avalible:\")\n",
    "        break\n",
    "else:\n",
    "    print(\"it is not avalible:\")\n",
    "    \n",
    "    "
   ]
  },
  {
   "cell_type": "code",
   "execution_count": null,
   "id": "38d405e0-3cc3-4c91-87ad-ee295fde6886",
   "metadata": {},
   "outputs": [],
   "source": [
    "E_l=[]\n",
    "l=0\n",
    "n=5\n",
    "while(l<n):\n",
    "    l=int(input(\"enter the number:\"))\n",
    "    \n",
    "l=l+1\n"
   ]
  },
  {
   "cell_type": "code",
   "execution_count": 55,
   "id": "a9044d10-fcce-4a43-81bc-895046fc1a7d",
   "metadata": {},
   "outputs": [
    {
     "name": "stdout",
     "output_type": "stream",
     "text": [
      "1\n",
      "2\n",
      "6\n",
      "24\n",
      "120\n"
     ]
    }
   ],
   "source": [
    "total=1\n",
    "for i in range (1,n+1):\n",
    "    total=total*i\n",
    "    print(total)"
   ]
  },
  {
   "cell_type": "code",
   "execution_count": 62,
   "id": "8664ecf1-f9e4-4d30-aa71-1baa34a52910",
   "metadata": {},
   "outputs": [
    {
     "name": "stdout",
     "output_type": "stream",
     "text": [
      "1\n",
      "2\n",
      "6\n",
      "24\n",
      "120\n"
     ]
    },
    {
     "name": "stdin",
     "output_type": "stream",
     "text": [
      "enter value 2\n"
     ]
    },
    {
     "name": "stdout",
     "output_type": "stream",
     "text": [
      "120\n",
      "240\n",
      "720\n"
     ]
    }
   ],
   "source": [
    "total=1\n",
    "for i in range (1,n+1):\n",
    "    total=total*i\n",
    "    print(total)\n",
    "    \n",
    "r=int(input(\"enter value\"))\n",
    "for i in range (1,n-r+1):\n",
    "    total=total*i\n",
    "    print(total)\n"
   ]
  },
  {
   "cell_type": "code",
   "execution_count": 83,
   "id": "7f9be5c7-d3bd-43b5-9a56-dfcc3cc5701c",
   "metadata": {},
   "outputs": [
    {
     "name": "stdout",
     "output_type": "stream",
     "text": [
      "120\n",
      "2\n",
      "6\n",
      "10\n"
     ]
    }
   ],
   "source": [
    "n=5\n",
    "r=2\n",
    "t1=1\n",
    "t2=1\n",
    "t3=1\n",
    "for i in range (1,n+1):\n",
    "    t1=t1*i\n",
    "print(t1)\n",
    "\n",
    "t2=1\n",
    "for i in range (1,r+1):\n",
    "    t2=t2*i\n",
    "print(t2)\n",
    "\n",
    "for i in range (1,n-r+1):\n",
    "    t3=t3*i\n",
    "print(t3)\n",
    "\n",
    "f=t1//(t2*t3)\n",
    "print(f)"
   ]
  },
  {
   "cell_type": "code",
   "execution_count": 90,
   "id": "01479448-6200-484d-9a6a-097bab6dd167",
   "metadata": {},
   "outputs": [
    {
     "name": "stdout",
     "output_type": "stream",
     "text": [
      "7\n"
     ]
    }
   ],
   "source": [
    "def add(x,y):\n",
    "    sum=x+y\n",
    "    return sum\n",
    "k=add(3,4)\n",
    "print(k)\n"
   ]
  },
  {
   "cell_type": "code",
   "execution_count": 99,
   "id": "9da25e2e-5583-47b5-96b0-bd16eab81ba2",
   "metadata": {},
   "outputs": [
    {
     "name": "stdout",
     "output_type": "stream",
     "text": [
      "120\n"
     ]
    }
   ],
   "source": [
    "def fact(x):\n",
    "    t1=1\n",
    "    for i in range (1,n+1):\n",
    "        t1=t1*i\n",
    "    return (t1)\n",
    "\n",
    "f=fact(5)\n",
    "print(f)\n"
   ]
  },
  {
   "cell_type": "code",
   "execution_count": 104,
   "id": "ec03c1a2-1642-4a11-9597-8079ab9050f1",
   "metadata": {},
   "outputs": [
    {
     "name": "stdout",
     "output_type": "stream",
     "text": [
      "2\n"
     ]
    }
   ],
   "source": [
    "def fact(x):\n",
    "    t2=1\n",
    "    for i in range (1,r+1):\n",
    "        t2=t2*i\n",
    "    return(t2)\n",
    "\n",
    "f=fact(5)\n",
    "print(f)\n"
   ]
  },
  {
   "cell_type": "code",
   "execution_count": 111,
   "id": "cef8ad9b-f77f-4ba1-bf33-5ce383153fbc",
   "metadata": {},
   "outputs": [
    {
     "name": "stdout",
     "output_type": "stream",
     "text": [
      "9\n",
      "1\n",
      "1.25\n",
      "20\n",
      "625\n"
     ]
    }
   ],
   "source": [
    "def add(x,y):\n",
    "    return (x+y)\n",
    "\n",
    "def sub(x,y):\n",
    "    return (x-y)\n",
    "\n",
    "def divi(x,y):\n",
    "    return (x/y)\n",
    "\n",
    "def multi(x,y):\n",
    "    return (x*y)\n",
    "\n",
    "def power(x,y):\n",
    "    return (x**y)\n",
    "\n",
    "\n",
    "k=add(5,4)\n",
    "print(k)\n",
    "\n",
    "s=sub(5,4)\n",
    "print(s)\n",
    "\n",
    "d=divi(5,4)\n",
    "print(d)\n",
    "\n",
    "m=multi(5,4)\n",
    "print(m)\n",
    "\n",
    "p=power(5,4)\n",
    "print(p)"
   ]
  },
  {
   "cell_type": "code",
   "execution_count": 126,
   "id": "12382e02-264a-46ea-b2c4-d8b4969b97ab",
   "metadata": {},
   "outputs": [
    {
     "name": "stdin",
     "output_type": "stream",
     "text": [
      "enter the element : 2\n",
      "enter the element name: l\n",
      "enter the element name: k\n",
      "search k\n"
     ]
    },
    {
     "name": "stdout",
     "output_type": "stream",
     "text": [
      "True\n"
     ]
    }
   ],
   "source": [
    "n=int(input(\"enter the element :\"))\n",
    "i=[]\n",
    "l=0\n",
    "while l<n:\n",
    "    l1=input(\"enter the element name:\")\n",
    "    i.append(l1)\n",
    "    l=l+1\n",
    "s_m=input(\"search\")\n",
    "\n",
    "def element(a,b):\n",
    "    for x in range (0,len(a)):\n",
    "        if(a[x]==b):\n",
    "            return True\n",
    "    else:\n",
    "        return False\n",
    "\n",
    "\n",
    "z=element(i,s_m)\n",
    "print(z)"
   ]
  }
 ],
 "metadata": {
  "kernelspec": {
   "display_name": "Python 3 (ipykernel)",
   "language": "python",
   "name": "python3"
  },
  "language_info": {
   "codemirror_mode": {
    "name": "ipython",
    "version": 3
   },
   "file_extension": ".py",
   "mimetype": "text/x-python",
   "name": "python",
   "nbconvert_exporter": "python",
   "pygments_lexer": "ipython3",
   "version": "3.12.2"
  }
 },
 "nbformat": 4,
 "nbformat_minor": 5
}
