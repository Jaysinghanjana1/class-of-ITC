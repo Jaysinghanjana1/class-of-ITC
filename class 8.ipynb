{
 "cells": [
  {
   "cell_type": "code",
   "execution_count": 25,
   "id": "18fda769-b584-4578-84c7-12f7745c4c83",
   "metadata": {},
   "outputs": [
    {
     "data": {
      "text/plain": [
       "120"
      ]
     },
     "execution_count": 25,
     "metadata": {},
     "output_type": "execute_result"
    }
   ],
   "source": [
    "def fact(n):\n",
    "    if(n==1):\n",
    "        return n\n",
    "    else:\n",
    "        return n*fact(n-1)\n",
    "fact(5)\n"
   ]
  },
  {
   "cell_type": "code",
   "execution_count": 33,
   "id": "8e06a9ec-a42d-47f6-9286-31bb17193a01",
   "metadata": {},
   "outputs": [
    {
     "name": "stdout",
     "output_type": "stream",
     "text": [
      "3628800\n"
     ]
    }
   ],
   "source": [
    "def fact(n):\n",
    "    if(n==1):\n",
    "        return n\n",
    "    else:\n",
    "       total=1\n",
    "    for i in range (1,n+1):\n",
    "        total=total*i\n",
    "    return total\n",
    "a=fact(10)\n",
    "print(a)"
   ]
  },
  {
   "cell_type": "code",
   "execution_count": null,
   "id": "2c094bef-74cf-4988-b0d5-88a73fdf7443",
   "metadata": {},
   "outputs": [],
   "source": [
    "def fact(n):\n",
    "    if(n==1):\n",
    "        return n\n",
    "    else:\n",
    "        return n*fact(n-1)\n",
    "fact(10000)\n"
   ]
  },
  {
   "cell_type": "code",
   "execution_count": null,
   "id": "26e84f62-84b5-4817-b136-c58acfd9c7f5",
   "metadata": {},
   "outputs": [],
   "source": [
    "def f(a,b):\n",
    "    z=a+b\n",
    "    a=b\n",
    "    b=z\n",
    "    return z\n",
    "x=f()"
   ]
  },
  {
   "cell_type": "code",
   "execution_count": 68,
   "id": "f098212e-82aa-4343-a553-ad2bbfcdbfba",
   "metadata": {},
   "outputs": [
    {
     "name": "stdin",
     "output_type": "stream",
     "text": [
      "enter the number: 40\n"
     ]
    },
    {
     "data": {
      "text/plain": [
       "102334155"
      ]
     },
     "execution_count": 68,
     "metadata": {},
     "output_type": "execute_result"
    }
   ],
   "source": [
    "def f(n):\n",
    "    if(n==1 or n==2):\n",
    "        return 1\n",
    "    else:\n",
    "        return f(n-2)+f(n-1)\n",
    "\n",
    "b=int(input(\"enter the number:\"))\n",
    "a=f(b)\n",
    "a"
   ]
  },
  {
   "cell_type": "code",
   "execution_count": 70,
   "id": "110aedc0-0129-4d88-8264-f451e30253fc",
   "metadata": {},
   "outputs": [
    {
     "name": "stdin",
     "output_type": "stream",
     "text": [
      "enter the number: 5\n"
     ]
    },
    {
     "data": {
      "text/plain": [
       "5"
      ]
     },
     "execution_count": 70,
     "metadata": {},
     "output_type": "execute_result"
    }
   ],
   "source": [
    "def f(n):\n",
    "    if(n==1 or n==2):\n",
    "        return 1\n",
    "    else:\n",
    "        return f(n-2)+f(n-1)\n",
    "\n",
    "b=int(input(\"enter the number:\"))\n",
    "a=f(b)\n",
    "a"
   ]
  },
  {
   "cell_type": "code",
   "execution_count": 79,
   "id": "92e9f03d-35df-4fd1-9c46-3d85039b41fc",
   "metadata": {},
   "outputs": [
    {
     "name": "stdout",
     "output_type": "stream",
     "text": [
      "43466557686937456435688527675040625802564660517371780402481729089536555417949051890403879840079255169295922593080322634775209689623239873322471161642996440906533187938298969649928516003704476137795166849228875\n",
      "f 0.001074075698852539\n"
     ]
    }
   ],
   "source": [
    "import time\n",
    "begin=time.time()\n",
    "memory={0:0,1:1}\n",
    "def fin_update(n):\n",
    "    if n not in memory:\n",
    "        memory[n]=fin_update(n-1)+fin_update(n-2)\n",
    "    return memory[n]\n",
    "print (fin_update(1000))\n",
    "end=time.time()\n",
    "print(end-begin)"
   ]
  },
  {
   "cell_type": "code",
   "execution_count": 78,
   "id": "5ec8a46f-8267-4bea-a0a3-32ce631b2624",
   "metadata": {},
   "outputs": [
    {
     "name": "stdout",
     "output_type": "stream",
     "text": [
      "43466557686937456435688527675040625802564660517371780402481729089536555417949051890403879840079255169295922593080322634775209689623239873322471161642996440906533187938298969649928516003704476137795166849228875\n"
     ]
    }
   ],
   "source": [
    "memory={0:0,1:1}\n",
    "def fin_update(n):\n",
    "    if n not in memory:\n",
    "        memory[n]=fin_update(n-1)+fin_update(n-2)\n",
    "    return memory[n]\n",
    "print (fin_update(1000))"
   ]
  },
  {
   "cell_type": "code",
   "execution_count": 46,
   "id": "959536a2-6177-4dd8-b828-c03edd1f36ce",
   "metadata": {},
   "outputs": [
    {
     "name": "stdin",
     "output_type": "stream",
     "text": [
      "enter the number: 8\n"
     ]
    },
    {
     "name": "stdout",
     "output_type": "stream",
     "text": [
      "time reqird to execut  <function timeit at 0x0000021F7B3E4400> <function fe at 0x0000021F7D426DE0>\n"
     ]
    }
   ],
   "source": [
    "from timeit import timeit\n",
    "def fe(n):\n",
    "    f=0\n",
    "    s=1\n",
    "    for i in range(1,n):\n",
    "        n=f+s\n",
    "        f=s\n",
    "        s=n\n",
    "    return n\n",
    "\n",
    "b=int(input(\"enter the number:\"))\n",
    "a=f(b)\n",
    "a\n",
    "print(\"time reqird to execut \",timeit,(fe))"
   ]
  },
  {
   "cell_type": "code",
   "execution_count": null,
   "id": "5228d2dd-c5b4-43ed-80d1-31ce2e898c43",
   "metadata": {},
   "outputs": [],
   "source": [
    "from timeit import timeit\n",
    "def f(n):\n",
    "    if(n==1 or n==2):\n",
    "        return 1\n",
    "    else:\n",
    "        return f(n-2)+f(n-1)\n",
    "        \n",
    "b=int(input(\"enter the number:\"))\n",
    "a=f(b)\n",
    "a\n",
    "print(\"time reqird to execut \",timeit(f))"
   ]
  },
  {
   "cell_type": "code",
   "execution_count": 18,
   "id": "98210dee-40e4-487a-879d-aa2ae79af494",
   "metadata": {},
   "outputs": [
    {
     "name": "stdin",
     "output_type": "stream",
     "text": [
      "enter the number: 5\n"
     ]
    },
    {
     "data": {
      "text/plain": [
       "5"
      ]
     },
     "execution_count": 18,
     "metadata": {},
     "output_type": "execute_result"
    }
   ],
   "source": [
    "def f(n):\n",
    "    if(n==1 or n==2):\n",
    "        return 1\n",
    "    else:\n",
    "        return f(n-2)+f(n-1)\n",
    "        \n",
    "'''b=int(input(\"enter the number:\"))\n",
    "a=f(b)\n",
    "a'''"
   ]
  },
  {
   "cell_type": "code",
   "execution_count": 28,
   "id": "93597f2c-d301-44be-a2a0-19b0a2fe92c1",
   "metadata": {},
   "outputs": [
    {
     "name": "stdin",
     "output_type": "stream",
     "text": [
      "enter the number: 12\n"
     ]
    },
    {
     "data": {
      "text/plain": [
       "144"
      ]
     },
     "execution_count": 28,
     "metadata": {},
     "output_type": "execute_result"
    }
   ],
   "source": [
    "b=int(input(\"enter the number:\"))\n",
    "a=f(b)\n",
    "a"
   ]
  },
  {
   "cell_type": "code",
   "execution_count": 31,
   "id": "71353f83-d0dc-4610-8695-5f02431a4677",
   "metadata": {},
   "outputs": [
    {
     "name": "stdin",
     "output_type": "stream",
     "text": [
      "enter the number: 8\n"
     ]
    },
    {
     "data": {
      "text/plain": [
       "21"
      ]
     },
     "execution_count": 31,
     "metadata": {},
     "output_type": "execute_result"
    }
   ],
   "source": [
    "def fe(n):\n",
    "    f=0\n",
    "    s=1\n",
    "    for i in range(1,n):\n",
    "        n=f+s\n",
    "        f=s\n",
    "        s=n\n",
    "    return n\n",
    "b=int(input(\"enter the number:\"))\n",
    "a=fe(b)\n",
    "a"
   ]
  }
 ],
 "metadata": {
  "kernelspec": {
   "display_name": "Python 3 (ipykernel)",
   "language": "python",
   "name": "python3"
  },
  "language_info": {
   "codemirror_mode": {
    "name": "ipython",
    "version": 3
   },
   "file_extension": ".py",
   "mimetype": "text/x-python",
   "name": "python",
   "nbconvert_exporter": "python",
   "pygments_lexer": "ipython3",
   "version": "3.12.2"
  }
 },
 "nbformat": 4,
 "nbformat_minor": 5
}
