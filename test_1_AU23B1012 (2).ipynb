{
 "cells": [
  {
   "cell_type": "code",
   "execution_count": null,
   "id": "da330dbd-9927-443d-9868-86f44a0a2514",
   "metadata": {},
   "outputs": [],
   "source": [
    "#Scheduled task-01\n",
    "#Design and analyse a solution to problem that will generate quadratic root give coefficents a,b and c"
   ]
  },
  {
   "cell_type": "code",
   "execution_count": null,
   "id": "07d032c7-1629-431d-8848-0b106a5dd449",
   "metadata": {},
   "outputs": [],
   "source": [
    "#phase-01"
   ]
  },
  {
   "cell_type": "code",
   "execution_count": 5,
   "id": "0545df10-ada9-4ad3-b047-3545536e229c",
   "metadata": {},
   "outputs": [
    {
     "name": "stdin",
     "output_type": "stream",
     "text": [
      "enter the (a) number: -8\n",
      "enter the (b) number: 6\n",
      "enter the (c) numberf: 0\n"
     ]
    },
    {
     "name": "stdout",
     "output_type": "stream",
     "text": [
      "root 1 "
     ]
    },
    {
     "ename": "ValueError",
     "evalue": "Exceeds the limit (4300 digits) for integer string conversion; use sys.set_int_max_str_digits() to increase the limit",
     "output_type": "error",
     "traceback": [
      "\u001b[1;31m---------------------------------------------------------------------------\u001b[0m",
      "\u001b[1;31mValueError\u001b[0m                                Traceback (most recent call last)",
      "Cell \u001b[1;32mIn[5], line 9\u001b[0m\n\u001b[0;32m      7\u001b[0m     r1\u001b[38;5;241m=\u001b[39m(\u001b[38;5;241m-\u001b[39mb\u001b[38;5;241m+\u001b[39m(d\u001b[38;5;241m*\u001b[39m\u001b[38;5;241m*\u001b[39md))\u001b[38;5;241m/\u001b[39m\u001b[38;5;241m/\u001b[39m(\u001b[38;5;241m2\u001b[39m\u001b[38;5;241m*\u001b[39ma)\n\u001b[0;32m      8\u001b[0m     r1\u001b[38;5;241m=\u001b[39m(\u001b[38;5;241m-\u001b[39mb\u001b[38;5;241m-\u001b[39m(d\u001b[38;5;241m*\u001b[39m\u001b[38;5;241m*\u001b[39md))\u001b[38;5;241m/\u001b[39m\u001b[38;5;241m/\u001b[39m(\u001b[38;5;241m2\u001b[39m\u001b[38;5;241m*\u001b[39ma)\n\u001b[1;32m----> 9\u001b[0m     \u001b[38;5;28;43mprint\u001b[39;49m\u001b[43m(\u001b[49m\u001b[38;5;124;43m\"\u001b[39;49m\u001b[38;5;124;43mroot 1\u001b[39;49m\u001b[38;5;124;43m\"\u001b[39;49m\u001b[43m,\u001b[49m\u001b[43mr1\u001b[49m\u001b[43m)\u001b[49m\n\u001b[0;32m     10\u001b[0m     \u001b[38;5;28mprint\u001b[39m(\u001b[38;5;124m\"\u001b[39m\u001b[38;5;124mroot 2\u001b[39m\u001b[38;5;124m\"\u001b[39m,r2)\n\u001b[0;32m     11\u001b[0m \u001b[38;5;28;01melse\u001b[39;00m:\n",
      "\u001b[1;31mValueError\u001b[0m: Exceeds the limit (4300 digits) for integer string conversion; use sys.set_int_max_str_digits() to increase the limit"
     ]
    }
   ],
   "source": [
    "# Implement two way desision construct to address the mentioned problem identify the possible issue with this approch-one/two liner\n",
    "a=int(input(\"enter the (a) number:\"))\n",
    "b=int(input(\"enter the (b) number:\"))\n",
    "c=int(input(\"enter the (c) numberf:\"))\n",
    "d=(b**b)-(4*a*c)\n",
    "if(d>0):\n",
    "    r1=(-b+(d**d))//(2*a)\n",
    "    r1=(-b-(d**d))//(2*a)\n",
    "    print(\"root 1\",r1)\n",
    "    print(\"root 2\",r2)\n",
    "else:\n",
    "    v=d//(2*a)\n",
    "    print(v)"
   ]
  },
  {
   "cell_type": "code",
   "execution_count": null,
   "id": "6e6dfe5c-4824-4ab4-b9fa-5232fd9b9aba",
   "metadata": {},
   "outputs": [],
   "source": [
    "#phase-02\n",
    "#NA"
   ]
  },
  {
   "cell_type": "code",
   "execution_count": null,
   "id": "6cf5bc0a-a4fe-4f9c-ac03-c1090d07acbe",
   "metadata": {},
   "outputs": [],
   "source": [
    "#phase-02\n",
    "#NA"
   ]
  }
 ],
 "metadata": {
  "kernelspec": {
   "display_name": "Python 3 (ipykernel)",
   "language": "python",
   "name": "python3"
  },
  "language_info": {
   "codemirror_mode": {
    "name": "ipython",
    "version": 3
   },
   "file_extension": ".py",
   "mimetype": "text/x-python",
   "name": "python",
   "nbconvert_exporter": "python",
   "pygments_lexer": "ipython3",
   "version": "3.12.2"
  }
 },
 "nbformat": 4,
 "nbformat_minor": 5
}
