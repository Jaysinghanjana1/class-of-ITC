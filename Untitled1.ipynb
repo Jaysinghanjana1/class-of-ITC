{
 "cells": [
  {
   "cell_type": "code",
   "execution_count": 2,
   "id": "18fda769-b584-4578-84c7-12f7745c4c83",
   "metadata": {},
   "outputs": [
    {
     "name": "stdout",
     "output_type": "stream",
     "text": [
      "120\n"
     ]
    }
   ],
   "source": [
    "def fact(n):\n",
    "    if(n==1):\n",
    "        return n\n",
    "    else:\n",
    "        return n*fact(n-1)\n",
    "a=fact(5)\n",
    "print(a)"
   ]
  },
  {
   "cell_type": "code",
   "execution_count": null,
   "id": "068eaefd-b068-4860-9b5c-3bcc8706bdbf",
   "metadata": {},
   "outputs": [
    {
     "name": "stdin",
     "output_type": "stream",
     "text": [
      "enter the number: 1\n",
      "enter the second number: 0\n"
     ]
    },
    {
     "name": "stdout",
     "output_type": "stream",
     "text": [
      "please enter valid value:\n"
     ]
    },
    {
     "name": "stdin",
     "output_type": "stream",
     "text": [
      "enter the number: 1\n",
      "enter the second number: 1\n"
     ]
    },
    {
     "name": "stdout",
     "output_type": "stream",
     "text": [
      "1.0\n"
     ]
    },
    {
     "name": "stdin",
     "output_type": "stream",
     "text": [
      "enter the number: 2\n",
      "enter the second number: 1\n"
     ]
    },
    {
     "name": "stdout",
     "output_type": "stream",
     "text": [
      "2.0\n"
     ]
    },
    {
     "name": "stdin",
     "output_type": "stream",
     "text": [
      "enter the number: 2\n",
      "enter the second number: 0\n"
     ]
    },
    {
     "name": "stdout",
     "output_type": "stream",
     "text": [
      "please enter valid value:\n"
     ]
    }
   ],
   "source": [
    "while True:\n",
    "    try:\n",
    "        a=int(input(\"enter the number:\"))\n",
    "        b=int(input(\"enter the second number:\"))\n",
    "        c=a/b\n",
    "        print(c)\n",
    "    except:\n",
    "        print(\"please enter valid value:\")\n",
    "    \n",
    "    \n"
   ]
  },
  {
   "cell_type": "code",
   "execution_count": null,
   "id": "8a020166-2a3f-45dc-b152-654a2edd57d7",
   "metadata": {},
   "outputs": [],
   "source": [
    "while True:\n",
    "    try:\n",
    "        x = int(input(\"Please enter a number: \"))\n",
    "        break\n",
    "    except ValueError:\n",
    "        print(\"Oops!  That was no valid number.  Try again...\")"
   ]
  },
  {
   "cell_type": "code",
   "execution_count": 2,
   "id": "01c0233f-82a7-4c2a-a737-a33f5d8427ff",
   "metadata": {},
   "outputs": [
    {
     "name": "stdin",
     "output_type": "stream",
     "text": [
      "enter the number: kkkk\n",
      "enter the number: kui4545\n"
     ]
    },
    {
     "name": "stdout",
     "output_type": "stream",
     "text": [
      "('kkkk', 'kui4545')\n"
     ]
    }
   ],
   "source": [
    "def main(name,enroll_id):\n",
    "\n",
    "    \n",
    "    return name,enroll_id\n",
    "\n",
    "n=input(\"enter the number:\")\n",
    "m=input(\"enter the number:\")\n",
    "\n",
    "k=main(n,m)\n",
    "print(k)\n",
    "    "
   ]
  },
  {
   "cell_type": "code",
   "execution_count": 96,
   "id": "818e35ff-2da1-4d54-842a-69b758fecfd1",
   "metadata": {},
   "outputs": [
    {
     "name": "stdin",
     "output_type": "stream",
     "text": [
      "enter the name: vale1\n"
     ]
    },
    {
     "name": "stdout",
     "output_type": "stream",
     "text": [
      "nothing\n"
     ]
    },
    {
     "name": "stdin",
     "output_type": "stream",
     "text": [
      "pop  vale1\n"
     ]
    },
    {
     "name": "stdout",
     "output_type": "stream",
     "text": [
      "{'vale2': 2, 'vale3': 3}\n"
     ]
    }
   ],
   "source": [
    "def student():\n",
    "    d={\"vale1\":1,\"vale2\":2,\"vale3\":3}\n",
    "    i=input(\"enter the name:\")\n",
    "    for j in d:\n",
    "        if i==j:\n",
    "            print(\"nothing\")\n",
    "            break\n",
    "        else:\n",
    "            d[input('enter new key : ')]=input(\"enter new value :\")\n",
    "            print(d)\n",
    "    k=input(\"pop \")\n",
    "    if k in d:\n",
    "        d.pop(i)\n",
    "        print(d)\n",
    "        \n",
    "student()"
   ]
  },
  {
   "cell_type": "code",
   "execution_count": 2,
   "id": "8b1119a1-13ad-4735-af06-f07933621d18",
   "metadata": {},
   "outputs": [
    {
     "ename": "NameError",
     "evalue": "name 'student' is not defined",
     "output_type": "error",
     "traceback": [
      "\u001b[1;31m---------------------------------------------------------------------------\u001b[0m",
      "\u001b[1;31mNameError\u001b[0m                                 Traceback (most recent call last)",
      "Cell \u001b[1;32mIn[2], line 1\u001b[0m\n\u001b[1;32m----> 1\u001b[0m \u001b[43mstudent\u001b[49m()\n",
      "\u001b[1;31mNameError\u001b[0m: name 'student' is not defined"
     ]
    }
   ],
   "source": [
    "student()"
   ]
  },
  {
   "cell_type": "code",
   "execution_count": null,
   "id": "c09c207c-66bf-4163-966a-b2f1f393fb5b",
   "metadata": {},
   "outputs": [
    {
     "name": "stdin",
     "output_type": "stream",
     "text": [
      "enter the number 1 : 5\n",
      "enter the number 2 : 6\n"
     ]
    },
    {
     "name": "stdout",
     "output_type": "stream",
     "text": [
      "0.8333333333333334\n"
     ]
    }
   ],
   "source": [
    "'''a=10\n",
    "b=0\n",
    "c=a/b\n",
    "print(c)'''\n",
    "while True:\n",
    "    try:\n",
    "        a=int(input(\"enter the number 1 :\"))\n",
    "        b=int(input(\"enter the number 2 :\"))\n",
    "        c=a/b\n",
    "        print(c)\n",
    "    except:\n",
    "        print(\"enter the valide vale:\")\n",
    "    "
   ]
  },
  {
   "cell_type": "code",
   "execution_count": null,
   "id": "338bfd8f-7b84-4121-a1c6-39d8423fc84b",
   "metadata": {},
   "outputs": [],
   "source": [
    "while True:\n",
    "    try:\n",
    "        a=int(input(\"enter the number:\"))\n",
    "        b=int(input(\"enter the second number:\"))\n",
    "        c=a/b\n",
    "        print(c)\n",
    "    except:\n",
    "        print(\"please enter valid value:\")"
   ]
  },
  {
   "cell_type": "code",
   "execution_count": 70,
   "id": "d558e4ad-4774-44b3-b800-5e2609a00a0f",
   "metadata": {},
   "outputs": [
    {
     "name": "stdout",
     "output_type": "stream",
     "text": [
      "{'vale1': 1, 'vale2': 2}\n"
     ]
    },
    {
     "name": "stdin",
     "output_type": "stream",
     "text": [
      "enter the name: aditya\n",
      "enter the new name: hgygf\n"
     ]
    },
    {
     "name": "stdout",
     "output_type": "stream",
     "text": [
      "{'vale1': 1, 'vale2': 2, 'aditya': 'hgygf'}\n"
     ]
    }
   ],
   "source": [
    "'''def emp(name):\n",
    "    e={\"AU23B01\":name}\n",
    "    for item in e.items():\n",
    "        print(item)\n",
    "        \n",
    "n=input(\"enter the number:\")\n",
    "x=emp(n)'''\n",
    "\n",
    "d={\"vale1\":1,\"vale2\":2}\n",
    "print(d)\n",
    "i=input(\"enter the name:\")\n",
    "if i not in d:\n",
    "    d[i]=input(\"enter the new name:\")\n",
    "    print(d)\n"
   ]
  },
  {
   "cell_type": "code",
   "execution_count": 49,
   "id": "546f0458-2e5f-4560-a579-dc4258df2e6c",
   "metadata": {},
   "outputs": [
    {
     "name": "stdin",
     "output_type": "stream",
     "text": [
      "enter the name: eee\n",
      "enter -- key value :  sss\n"
     ]
    },
    {
     "ename": "ValueError",
     "evalue": "dictionary update sequence element #0 has length 3; 2 is required",
     "output_type": "error",
     "traceback": [
      "\u001b[1;31m---------------------------------------------------------------------------\u001b[0m",
      "\u001b[1;31mValueError\u001b[0m                                Traceback (most recent call last)",
      "Cell \u001b[1;32mIn[49], line 19\u001b[0m\n\u001b[0;32m     16\u001b[0m         d\u001b[38;5;241m.\u001b[39mpop(k)\n\u001b[0;32m     17\u001b[0m         \u001b[38;5;28mprint\u001b[39m(d)\n\u001b[1;32m---> 19\u001b[0m \u001b[43mstudent\u001b[49m\u001b[43m(\u001b[49m\u001b[43m)\u001b[49m\n",
      "Cell \u001b[1;32mIn[49], line 11\u001b[0m, in \u001b[0;36mstudent\u001b[1;34m()\u001b[0m\n\u001b[0;32m      9\u001b[0m m\u001b[38;5;241m=\u001b[39m\u001b[38;5;28minput\u001b[39m(\u001b[38;5;124m'\u001b[39m\u001b[38;5;124menter -- key value : \u001b[39m\u001b[38;5;124m'\u001b[39m)\n\u001b[0;32m     10\u001b[0m \u001b[38;5;66;03m#n=input(\"enter new value :\")\u001b[39;00m\n\u001b[1;32m---> 11\u001b[0m \u001b[43md\u001b[49m\u001b[38;5;241;43m.\u001b[39;49m\u001b[43mupdate\u001b[49m\u001b[43m(\u001b[49m\u001b[43m[\u001b[49m\u001b[43mm\u001b[49m\u001b[43m,\u001b[49m\u001b[43mm\u001b[49m\u001b[43m]\u001b[49m\u001b[43m)\u001b[49m\n\u001b[0;32m     12\u001b[0m \u001b[38;5;28mprint\u001b[39m(d)\n\u001b[0;32m     13\u001b[0m \u001b[38;5;28;01mbreak\u001b[39;00m\n",
      "\u001b[1;31mValueError\u001b[0m: dictionary update sequence element #0 has length 3; 2 is required"
     ]
    }
   ],
   "source": [
    "def student():\n",
    "    d={\"vale1\":1,\"vale2\":2,\"vale3\":3}\n",
    "    i=input(\"enter the name:\")\n",
    "    for j in d:\n",
    "        if i==j:\n",
    "            print(\"nothing\")\n",
    "            break\n",
    "        else:\n",
    "            m=input('enter -- key value :')\n",
    "            #n=input(\"enter new value :\")\n",
    "            d.update([m,m])\n",
    "            print(d)\n",
    "            break\n",
    "    k=input(\"pop \")\n",
    "    if k in d:\n",
    "        d.pop(k)\n",
    "        print(d)\n",
    "        \n",
    "student()"
   ]
  },
  {
   "cell_type": "code",
   "execution_count": null,
   "id": "a5b765c6-6a95-4929-a2c7-201e430decb4",
   "metadata": {},
   "outputs": [
    {
     "name": "stdin",
     "output_type": "stream",
     "text": [
      "enter the number: 5\n",
      "enter the element: 2\n"
     ]
    },
    {
     "name": "stdout",
     "output_type": "stream",
     "text": [
      "end\n",
      "%%\n"
     ]
    },
    {
     "name": "stdin",
     "output_type": "stream",
     "text": [
      "enter the element: 4\n"
     ]
    },
    {
     "name": "stdout",
     "output_type": "stream",
     "text": [
      "end\n",
      "end\n",
      "%%\n"
     ]
    }
   ],
   "source": [
    "n=int(input(\"enter the number:\"))\n",
    "l=[]\n",
    "for i in range(n):\n",
    "    e=int(input(\"enter the element:\"))\n",
    "    l.append(e)\n",
    "    for m in (l):\n",
    "        if((m+1)-m):\n",
    "            print(\"end\")\n",
    "            \n",
    "else:\n",
    "    print(\"%%\")\n",
    "    "
   ]
  },
  {
   "cell_type": "code",
   "execution_count": 8,
   "id": "0098d648-c9d2-498f-a894-77bd354fe09f",
   "metadata": {},
   "outputs": [
    {
     "name": "stdout",
     "output_type": "stream",
     "text": [
      "my second  argumentC:\\Users\\jay.anjana\\AppData\\Local\\Programs\\Python\\Python312\\Lib\\site-packages\\ipykernel_launcher.py\n",
      "my third  argument-f\n",
      "my forthy  argumentC:\\Users\\jay.anjana\\AppData\\Roaming\\jupyter\\runtime\\kernel-4f030e84-0d50-4e34-b0fa-8f6f951017d1.json\n"
     ]
    }
   ],
   "source": [
    "from sys import argv\n",
    "first,second,third=argv\n",
    "\n",
    "print(f\"my second  argument{first}\")\n",
    "print(f\"my third  argument{second}\")\n",
    "print(f\"my forthy  argument{third}\")"
   ]
  },
  {
   "cell_type": "code",
   "execution_count": 6,
   "id": "dcec615f-5f6c-4526-ada3-bf29456b26c0",
   "metadata": {},
   "outputs": [
    {
     "name": "stdout",
     "output_type": "stream",
     "text": [
      "yes\n"
     ]
    }
   ],
   "source": [
    "l=[1,2,3,4,2]\n",
    "n=2\n",
    "for ele in range (len(l)):\n",
    "    if ele == n:\n",
    "        print(\"yes\")\n",
    "    \n"
   ]
  },
  {
   "cell_type": "code",
   "execution_count": 4,
   "id": "837749b5-d264-403b-a64f-568d1a586d36",
   "metadata": {},
   "outputs": [
    {
     "name": "stdout",
     "output_type": "stream",
     "text": [
      "<class 'set'>\n",
      "<class 'dict'>\n"
     ]
    }
   ],
   "source": [
    "p={2,3,5}\n",
    "d=(one=1, two=2)\n",
    "print(type(p))\n",
    "print(type(d))"
   ]
  },
  {
   "cell_type": "code",
   "execution_count": 5,
   "id": "5a6c6612-3745-4fa4-b882-473b8ad97768",
   "metadata": {},
   "outputs": [
    {
     "name": "stdout",
     "output_type": "stream",
     "text": [
      "Handling run-time error: division by zero\n"
     ]
    }
   ],
   "source": [
    "def this_fails():\n",
    "    x = 1/0\n",
    "    print(x)\n",
    "\n",
    "try:\n",
    "    this_fails()\n",
    "except ZeroDivisionError as err:\n",
    "    print('Handling run-time error:', err)\n",
    "\n",
    "#Handling run-time error: division by zero"
   ]
  },
  {
   "cell_type": "code",
   "execution_count": 20,
   "id": "35fb0e7c-8959-4897-b0b5-89634b2858a8",
   "metadata": {},
   "outputs": [
    {
     "data": {
      "text/plain": [
       "True"
      ]
     },
     "execution_count": 20,
     "metadata": {},
     "output_type": "execute_result"
    }
   ],
   "source": [
    "def bool_return():\n",
    "    try:\n",
    "        return True\n",
    "    finally:\n",
    "        return False\n",
    "\n",
    "bool_return()\n",
    "True\n",
    "False\n",
    "True"
   ]
  },
  {
   "cell_type": "code",
   "execution_count": 27,
   "id": "a96f1606-05fe-4f39-a2be-ef996bff3190",
   "metadata": {},
   "outputs": [
    {
     "ename": "SyntaxError",
     "evalue": "invalid syntax (3732076472.py, line 19)",
     "output_type": "error",
     "traceback": [
      "\u001b[1;36m  Cell \u001b[1;32mIn[27], line 19\u001b[1;36m\u001b[0m\n\u001b[1;33m    Traceback ('most recent call last'):\u001b[0m\n\u001b[1;37m                                       ^\u001b[0m\n\u001b[1;31mSyntaxError\u001b[0m\u001b[1;31m:\u001b[0m invalid syntax\n"
     ]
    }
   ],
   "source": [
    "def divide(x, y):\n",
    "    try:\n",
    "        result = x / y\n",
    "    except ZeroDivisionError:\n",
    "        print(\"division by zero!\")\n",
    "    else:\n",
    "        print(\"result is\", result)\n",
    "    finally:\n",
    "        print(\"executing finally clause\")\n",
    "\n",
    "divide(2, 1)\n",
    "#result is 2.0\n",
    "#executing finally clause\n",
    "divide(2, 0)\n",
    "#division by zero!\n",
    "#executing finally clause\n",
    "divide(\"2\", \"1\")\n",
    "#executing finally clause\n",
    "Traceback ('most recent call last'):\n",
    "File \"<stdin>\", line 1, in <module>\n",
    "File \"<stdin>\", line 3, in divide\n",
    "TypeError: unsupported operand type(s) for /: 'str' and 'str'"
   ]
  },
  {
   "cell_type": "code",
   "execution_count": null,
   "id": "620be330-acd5-4712-8fd6-09aac65a970c",
   "metadata": {},
   "outputs": [],
   "source": []
  }
 ],
 "metadata": {
  "kernelspec": {
   "display_name": "Python 3 (ipykernel)",
   "language": "python",
   "name": "python3"
  },
  "language_info": {
   "codemirror_mode": {
    "name": "ipython",
    "version": 3
   },
   "file_extension": ".py",
   "mimetype": "text/x-python",
   "name": "python",
   "nbconvert_exporter": "python",
   "pygments_lexer": "ipython3",
   "version": "3.12.2"
  }
 },
 "nbformat": 4,
 "nbformat_minor": 5
}
