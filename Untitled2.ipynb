{
 "cells": [
  {
   "cell_type": "code",
   "execution_count": 26,
   "id": "cbb39bdb-b08c-4583-9431-d9016eb72bce",
   "metadata": {},
   "outputs": [
    {
     "name": "stdout",
     "output_type": "stream",
     "text": [
      "{'sem1': ['itd', 'cct', 'em', 'ep'], 'sem2': ['dt', 'poe', 'fop', 'itc']}\n"
     ]
    }
   ],
   "source": [
    "list1 = ['sem1','sem2']\n",
    "list2 = [['itd','cct','em','ep'],['dt','poe','fop','itc']]\n",
    "list3 = []\n",
    "\n",
    "for e1,e2 in zip(list1,list2):\n",
    "    tuplee=(e1,e2)\n",
    "    list3.append(tuplee)\n",
    "list3=dict(list3\n",
    "print(list3)"
   ]
  },
  {
   "cell_type": "code",
   "execution_count": 11,
   "id": "257a39b5-c8f7-4831-a3f5-f81ff8df1da9",
   "metadata": {},
   "outputs": [
    {
     "name": "stdout",
     "output_type": "stream",
     "text": [
      "['avantika', 'avantika', 'avantika', 'avantika', 'avantika', 'avantika', 'avantika', 'avantika']\n"
     ]
    }
   ],
   "source": [
    "a=\"avantika\"\n",
    "l=[]\n",
    "for i in (a):\n",
    "    l.append(a)\n",
    "print(l)"
   ]
  },
  {
   "cell_type": "code",
   "execution_count": 16,
   "id": "96bd5d12-c621-4959-a644-0363fc66dbb4",
   "metadata": {},
   "outputs": [
    {
     "name": "stdout",
     "output_type": "stream",
     "text": [
      "[['itd', 'cct', 'em', 'ep'], ['dt', 'poe', 'fop', 'itc']]\n"
     ]
    }
   ],
   "source": [
    "list2 = [['itd','cct','em','ep'],['dt','poe','fop','itc']]\n",
    "b=str(list2)\n",
    "print((b))"
   ]
  },
  {
   "cell_type": "code",
   "execution_count": 18,
   "id": "afbe9baa-5893-43e4-b208-2bc40fc8dd51",
   "metadata": {},
   "outputs": [
    {
     "name": "stdout",
     "output_type": "stream",
     "text": [
      "[['itd', 'cct', 'em', 'ep'], ['dt', 'poe', 'fop', 'itc']]\n"
     ]
    }
   ],
   "source": [
    "list2 = [['itd','cct','em','ep'],['dt','poe','fop','itc']]\n",
    "dict_1=list2\n",
    "print(dict_1)"
   ]
  },
  {
   "cell_type": "code",
   "execution_count": null,
   "id": "0c373b1c-5bd9-4143-bf06-1409011ba061",
   "metadata": {},
   "outputs": [],
   "source": [
    "a=[1,2,3,4]\n",
    "for i in range(0,len(a)):\n",
    "    #tuple(iterable=(), /)\n",
    "    dict(i)"
   ]
  },
  {
   "cell_type": "code",
   "execution_count": 24,
   "id": "3e467f51-4004-4c0d-9d79-c410991f9440",
   "metadata": {},
   "outputs": [
    {
     "data": {
      "text/plain": [
       "{'sem1': ['itd', 'cct', 'em', 'ep']}"
      ]
     },
     "execution_count": 24,
     "metadata": {},
     "output_type": "execute_result"
    }
   ],
   "source": [
    "t=[('sem1', ['itd', 'cct', 'em', 'ep'])]\n",
    "dict(t)\n",
    "list3=[]\n",
    "for i in t:\n",
    "    list3.append(i)\n",
    "dict(list3)\n"
   ]
  },
  {
   "cell_type": "code",
   "execution_count": null,
   "id": "ad31ee65-962b-4f93-9757-f31e455307ce",
   "metadata": {},
   "outputs": [],
   "source": [
    "list1 = ['sem1','sem2']\n",
    "list2 = [['itd','cct','em','ep'],['dt','poe','fop','itc']]\n",
    "list3 = []\n",
    "\n",
    "for e1,e2 in zip(list1,list2):\n",
    "    tuplee=(e1,e2)\n",
    "    list3.append(tuplee)\n",
    "list3=dict(list3\n",
    "print(list3)\n"
   ]
  },
  {
   "cell_type": "code",
   "execution_count": 27,
   "id": "cc1fdc2b-7d01-4572-bc1f-7459824fe271",
   "metadata": {},
   "outputs": [
    {
     "name": "stdout",
     "output_type": "stream",
     "text": [
      "subject \n",
      "course \n"
     ]
    },
    {
     "name": "stdin",
     "output_type": "stream",
     "text": [
      "enter the choice: subject\n",
      "enter the subject: ITD\n"
     ]
    },
    {
     "name": "stdout",
     "output_type": "stream",
     "text": [
      "sem1\n"
     ]
    }
   ],
   "source": [
    "list1 = ['semester1','semester2']\n",
    "list2 = [['ITD','CCT','EM','EP'],['DT','POE','FOP','ITC']]\n",
    "list3 = []\n",
    "\n",
    "for e1,e2 in zip(list1,list2):\n",
    "    tuplee=(e1,e2)\n",
    "    list3.append(tuplee)\n",
    "\n",
    "list3=dict(list3)\n",
    "#print(list3)\n",
    "\n",
    "print(\"subject \\ncourse \")\n",
    "a=input(\"enter the choice:\")\n",
    "\n",
    "if a=='subject':\n",
    "    sub=input(\"enter the subject:\")\n",
    "    for i,j in list3.items():\n",
    "        for ele in j:\n",
    "            if ele==sub:\n",
    "                print(i)\n",
    "                break\n",
    "else:\n",
    "    print(\"enter the valid subject:\")\n",
    "    \n",
    "if a=='course':\n",
    "    sem=input(\"enter the semester:\")\n",
    "    for i,j in list3.items():\n",
    "        if i==sem:\n",
    "            print(j)\n",
    "            break\n",
    "    else:\n",
    "        print(\"enter the valid semester:\")"
   ]
  },
  {
   "cell_type": "code",
   "execution_count": 14,
   "id": "c5e45327-e167-4212-bf85-3c863188450f",
   "metadata": {},
   "outputs": [
    {
     "name": "stdout",
     "output_type": "stream",
     "text": [
      "enter a subject or course -\n"
     ]
    },
    {
     "name": "stdin",
     "output_type": "stream",
     "text": [
      "enter the choice: course\n"
     ]
    },
    {
     "name": "stdout",
     "output_type": "stream",
     "text": [
      "enter  ['semester1','semester2']\n"
     ]
    },
    {
     "name": "stdin",
     "output_type": "stream",
     "text": [
      "enter the semester: semester2\n"
     ]
    },
    {
     "name": "stdout",
     "output_type": "stream",
     "text": [
      "['DT', 'POE', 'FOP', 'ITC']\n"
     ]
    }
   ],
   "source": [
    "list1 = ['semester1','semester2']\n",
    "list2 = [['ITD','CCT','EM','EP'],['DT','POE','FOP','ITC']]\n",
    "list3 = []\n",
    "\n",
    "for e1,e2 in zip(list1,list2):\n",
    "    tuplee=(e1,e2)\n",
    "    list3.append(tuplee)\n",
    "\n",
    "list3=dict(list3)\n",
    "#print(list3)\n",
    "\n",
    "\n",
    "print(\"enter subject or course -\")\n",
    "a=input(\"enter the choice:\")\n",
    "\n",
    "if a=='subject':\n",
    "    print(\"enter  ['ITD','CCT','EM','EP'],['DT','POE','FOP','ITC']\")\n",
    "    sub=input(\"enter the subject:\")\n",
    "    for i,j in list3.items():\n",
    "        for ele in j:\n",
    "            if ele==sub:\n",
    "                print(i)\n",
    "                break\n",
    "    else:\n",
    "        print(\"enter the valid subject:\")\n",
    "    \n",
    "if a=='course':\n",
    "    print(\"enter  ['semester1','semester2']\")\n",
    "    sem=input(\"enter the semester:\")\n",
    "    for i,j in list3.items():\n",
    "        if i==sem:\n",
    "            print(j)\n",
    "            break\n",
    "    else:\n",
    "        print(\"enter the valid semester:\") "
   ]
  },
  {
   "cell_type": "code",
   "execution_count": 17,
   "id": "3c26bc3d-595d-477f-9f0d-0322d2eaa024",
   "metadata": {},
   "outputs": [
    {
     "data": {
      "text/plain": [
       "{'sem1': ['cct', 'itd'], 'sem2': ['itc', 'dt']}"
      ]
     },
     "execution_count": 17,
     "metadata": {},
     "output_type": "execute_result"
    }
   ],
   "source": [
    "def dict\n",
    "a=['sem1','sem2']\n",
    "b=[['cct','itd'],['itc','dt']]\n",
    "c=[]\n",
    "e={}\n",
    "for e1,e2 in zip(a,b):\n",
    "    t=(e1,e2)\n",
    "    c.append(t)\n",
    "    e=dict(c)\n",
    "e"
   ]
  },
  {
   "cell_type": "code",
   "execution_count": null,
   "id": "acaf0cdd-ef5d-495d-968b-cf7ae1cd41a1",
   "metadata": {},
   "outputs": [],
   "source": []
  }
 ],
 "metadata": {
  "kernelspec": {
   "display_name": "Python 3 (ipykernel)",
   "language": "python",
   "name": "python3"
  },
  "language_info": {
   "codemirror_mode": {
    "name": "ipython",
    "version": 3
   },
   "file_extension": ".py",
   "mimetype": "text/x-python",
   "name": "python",
   "nbconvert_exporter": "python",
   "pygments_lexer": "ipython3",
   "version": "3.12.2"
  }
 },
 "nbformat": 4,
 "nbformat_minor": 5
}
