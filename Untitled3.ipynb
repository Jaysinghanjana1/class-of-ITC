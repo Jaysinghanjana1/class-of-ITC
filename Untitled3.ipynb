{
 "cells": [
  {
   "cell_type": "code",
   "execution_count": 11,
   "id": "177cf18c-2cca-4ac6-9621-30332eacd1c2",
   "metadata": {},
   "outputs": [
    {
     "data": {
      "text/plain": [
       "__main__.Roomlight"
      ]
     },
     "execution_count": 11,
     "metadata": {},
     "output_type": "execute_result"
    }
   ],
   "source": [
    "class Roomlight():\n",
    "    \n",
    "    def __init__(self):\n",
    "        self.bulb=0\n",
    "\n",
    "    def turn_on(self):\n",
    "        self.bulb=1\n",
    "        return self.bul\n",
    "\n",
    "init=Roomlight()\n",
    "type(init)\n",
    "#init=Roomlight(self)"
   ]
  },
  {
   "cell_type": "code",
   "execution_count": null,
   "id": "ee8011cc-3a12-45af-9555-5584d41b2db6",
   "metadata": {},
   "outputs": [],
   "source": [
    "class addtwo():\n",
    "    def __init__(self,a,b):\n",
    "        self.a=a\n",
    "        self.b=b\n",
    "        self.c=1\n",
    "        self.g=1\n",
    "\n",
    "    def add(self):\n",
    "        self.c=self.a+self.b\n",
    "        return self.c\n",
    "\n",
    "    def sub(self):\n",
    "        self.g=self.a-self.b\n",
    "        return self.g\n",
    "\n",
    "    def show(self):\n",
    "        return self.c,self.g\n",
    "\n",
    "\n",
    "AU=addtwo(5,9)\n",
    "AU.sub()"
   ]
  },
  {
   "cell_type": "code",
   "execution_count": 18,
   "id": "0e8525fc-2b50-4d39-b714-6cbee0057df0",
   "metadata": {},
   "outputs": [
    {
     "ename": "SyntaxError",
     "evalue": "invalid syntax (3992156655.py, line 2)",
     "output_type": "error",
     "traceback": [
      "\u001b[1;36m  Cell \u001b[1;32mIn[18], line 2\u001b[1;36m\u001b[0m\n\u001b[1;33m    ----\"l2 copy of l1\"----\u001b[0m\n\u001b[1;37m                           ^\u001b[0m\n\u001b[1;31mSyntaxError\u001b[0m\u001b[1;31m:\u001b[0m invalid syntax\n"
     ]
    }
   ],
   "source": [
    "def mimic(l1,l2):\n",
    "    ----\"l2 copy of l1\"----\n",
    "\n",
    "\n",
    "\n",
    "n=input(\"enter  length \")\n",
    "l1=[]\n",
    "l2=[]\n",
    "for i in (n):\n",
    "    e=input(\"enter the elements\")\n",
    "    l1.append(e)\n",
    "    l2.copy(l1)\n",
    "mimic(l1,l2)\n"
   ]
  },
  {
   "cell_type": "code",
   "execution_count": 20,
   "id": "2bb2e931-4ea8-42a8-b055-50ca1297540a",
   "metadata": {},
   "outputs": [
    {
     "name": "stdout",
     "output_type": "stream",
     "text": [
      "[1, 2, 3, 4, 5]\n"
     ]
    }
   ],
   "source": [
    "def mimic(l1,l2):\n",
    "    l2.clear()\n",
    "    for i in l1:\n",
    "        l2.append(i)\n",
    "    print(l2)\n",
    "    \n",
    "l1=[1,2,3,4,5]\n",
    "l2=[6,7,8,9,10]\n",
    "mimic(l1,l2)"
   ]
  },
  {
   "cell_type": "code",
   "execution_count": 42,
   "id": "c9127ff7-d99b-4b0c-8180-dbca26b58881",
   "metadata": {},
   "outputs": [
    {
     "name": "stdout",
     "output_type": "stream",
     "text": [
      "[0.16666666666666666, 0.14285714285714285, 0.125, 0.1111111111111111, 0.3333333333333333, 0.2857142857142857, 0.25, 0.2222222222222222, 0.5, 0.42857142857142855, 0.375, 0.3333333333333333, 0.6666666666666666, 0.5714285714285714, 0.5, 0.4444444444444444]\n",
      "[1, 2, 3, 4]\n",
      "[6, 7, 8, 9]\n"
     ]
    }
   ],
   "source": [
    "def vector_ratio(vector1,vector2):\n",
    "    empty_list=[]\n",
    "    for i in (vector1):\n",
    "        if i==0:\n",
    "            raise ValueError('bad')\n",
    "        else:\n",
    "            for j in (vector2):\n",
    "                if j==0:\n",
    "                    raise ValueError(\"go bad\")\n",
    "                else:\n",
    "                    v=i/j\n",
    "                    empty_list.append(v)\n",
    "    print(empty_list)\n",
    "                \n",
    "    print(vector1)\n",
    "    print(vector2)\n",
    "                     \n",
    "vector1=[1,2,3,4]\n",
    "vector2=[6,7,8,9]\n",
    "vector_ratio(vector1,vector2)"
   ]
  },
  {
   "cell_type": "code",
   "execution_count": 120,
   "id": "96fdba83-5979-42f5-be0c-aa2b1aea6a7b",
   "metadata": {},
   "outputs": [
    {
     "ename": "ValueError",
     "evalue": "go bad",
     "output_type": "error",
     "traceback": [
      "\u001b[1;31m---------------------------------------------------------------------------\u001b[0m",
      "\u001b[1;31mValueError\u001b[0m                                Traceback (most recent call last)",
      "Cell \u001b[1;32mIn[120], line 21\u001b[0m\n\u001b[0;32m     19\u001b[0m vector1\u001b[38;5;241m=\u001b[39m[\u001b[38;5;241m1\u001b[39m,\u001b[38;5;241m2\u001b[39m,\u001b[38;5;241m3\u001b[39m,\u001b[38;5;241m4\u001b[39m]\n\u001b[0;32m     20\u001b[0m vector2\u001b[38;5;241m=\u001b[39m[\u001b[38;5;241m6\u001b[39m,\u001b[38;5;241m7\u001b[39m,\u001b[38;5;241m8\u001b[39m,\u001b[38;5;241m9\u001b[39m,\u001b[38;5;241m0\u001b[39m]\n\u001b[1;32m---> 21\u001b[0m \u001b[43mvector_ratio\u001b[49m\u001b[43m(\u001b[49m\u001b[43mvector1\u001b[49m\u001b[43m,\u001b[49m\u001b[43mvector2\u001b[49m\u001b[43m)\u001b[49m\n",
      "Cell \u001b[1;32mIn[120], line 9\u001b[0m, in \u001b[0;36mvector_ratio\u001b[1;34m(vector1, vector2)\u001b[0m\n\u001b[0;32m      7\u001b[0m         \u001b[38;5;28;01mfor\u001b[39;00m j \u001b[38;5;129;01min\u001b[39;00m (vector2):\n\u001b[0;32m      8\u001b[0m             \u001b[38;5;28;01mif\u001b[39;00m j\u001b[38;5;241m==\u001b[39m\u001b[38;5;241m0\u001b[39m:\n\u001b[1;32m----> 9\u001b[0m                 \u001b[38;5;28;01mraise\u001b[39;00m \u001b[38;5;167;01mValueError\u001b[39;00m(\u001b[38;5;124m\"\u001b[39m\u001b[38;5;124mgo bad\u001b[39m\u001b[38;5;124m\"\u001b[39m)\n\u001b[0;32m     10\u001b[0m \u001b[38;5;28;01mtry\u001b[39;00m:\n\u001b[0;32m     11\u001b[0m     v1\u001b[38;5;241m=\u001b[39mi\u001b[38;5;241m/\u001b[39mj\n",
      "\u001b[1;31mValueError\u001b[0m: go bad"
     ]
    }
   ],
   "source": [
    "def vector_ratio(vector1,vector2):\n",
    "    e=[]\n",
    "    for i in (vector1):\n",
    "        if i==0:\n",
    "            raise ValueError('bad')\n",
    "        else:\n",
    "            for j in (vector2):\n",
    "                if j==0:\n",
    "                    raise ValueError(\"go bad\")\n",
    "    try:\n",
    "        v1=i/j\n",
    "        e.append(v1)\n",
    "        print(e)\n",
    "    except:\n",
    "        print(\"error\")\n",
    "    print(vector1)\n",
    "    print(vector2)\n",
    "                     \n",
    "vector1=[1,2,3,4]\n",
    "vector2=[6,7,8,9,0]\n",
    "vector_ratio(vector1,vector2)"
   ]
  },
  {
   "cell_type": "code",
   "execution_count": 118,
   "id": "a8c96113-2a36-4012-9e48-ed5cb79b296f",
   "metadata": {},
   "outputs": [
    {
     "name": "stdout",
     "output_type": "stream",
     "text": [
      "[0.1111111111111111]\n",
      "[0.1111111111111111, 0.2222222222222222]\n",
      "[0.1111111111111111, 0.2222222222222222, 0.3333333333333333]\n",
      "[0.1111111111111111, 0.2222222222222222, 0.3333333333333333, 0.4444444444444444]\n",
      "[1, 2, 3, 4]\n",
      "[6, 7, 8, 9]\n"
     ]
    }
   ],
   "source": [
    "vector1=[1,2,3,4]\n",
    "vector2=[6,7,8,9]\n",
    "e=[]\n",
    "for i in (vector1):\n",
    "    if i==0:\n",
    "        raise ValueError('bad')\n",
    "    else:\n",
    "        for j in (vector2):\n",
    "            if j==0:\n",
    "                raise ValueError(\"go bad\")\n",
    "    try:\n",
    "      v1=i/j\n",
    "      e.append(v1)\n",
    "      print(e)\n",
    "      \n",
    "    except:\n",
    "        print(\"error\")\n",
    "        \n",
    "print(vector1)\n",
    "print(vector2)"
   ]
  },
  {
   "cell_type": "code",
   "execution_count": null,
   "id": "33afcb47-7bf9-4cb4-b1b1-046b35ea34a1",
   "metadata": {},
   "outputs": [],
   "source": []
  }
 ],
 "metadata": {
  "kernelspec": {
   "display_name": "Python 3 (ipykernel)",
   "language": "python",
   "name": "python3"
  },
  "language_info": {
   "codemirror_mode": {
    "name": "ipython",
    "version": 3
   },
   "file_extension": ".py",
   "mimetype": "text/x-python",
   "name": "python",
   "nbconvert_exporter": "python",
   "pygments_lexer": "ipython3",
   "version": "3.12.2"
  }
 },
 "nbformat": 4,
 "nbformat_minor": 5
}
